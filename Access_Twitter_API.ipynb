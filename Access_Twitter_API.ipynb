{
  "nbformat": 4,
  "nbformat_minor": 0,
  "metadata": {
    "colab": {
      "provenance": [],
      "collapsed_sections": [],
      "include_colab_link": true
    },
    "kernelspec": {
      "name": "python3",
      "display_name": "Python 3"
    },
    "language_info": {
      "name": "python"
    }
  },
  "cells": [
    {
      "cell_type": "markdown",
      "metadata": {
        "id": "view-in-github",
        "colab_type": "text"
      },
      "source": [
        "<a href=\"https://colab.research.google.com/github/NathanH-VCU/Access-Twitter-API/blob/main/Access_Twitter_API.ipynb\" target=\"_parent\"><img src=\"https://colab.research.google.com/assets/colab-badge.svg\" alt=\"Open In Colab\"/></a>"
      ]
    },
    {
      "cell_type": "code",
      "execution_count": 4,
      "metadata": {
        "id": "dPoOmmkKWB-w"
      },
      "outputs": [],
      "source": [
        "import tweepy\n",
        "import pandas as pd\n",
        "import csv\n",
        "import re \n",
        "import string\n"
      ]
    },
    {
      "cell_type": "code",
      "source": [
        "!pip install preprocessor"
      ],
      "metadata": {
        "colab": {
          "base_uri": "https://localhost:8080/"
        },
        "id": "YEKFxD0BauFe",
        "outputId": "074ed2d0-64fe-4045-a6eb-3d580ab477ea"
      },
      "execution_count": 5,
      "outputs": [
        {
          "output_type": "stream",
          "name": "stdout",
          "text": [
            "Looking in indexes: https://pypi.org/simple, https://us-python.pkg.dev/colab-wheels/public/simple/\n",
            "Collecting preprocessor\n",
            "  Downloading preprocessor-1.1.3.tar.gz (4.2 kB)\n",
            "Building wheels for collected packages: preprocessor\n",
            "  Building wheel for preprocessor (setup.py) ... \u001b[?25l\u001b[?25hdone\n",
            "  Created wheel for preprocessor: filename=preprocessor-1.1.3-py3-none-any.whl size=4477 sha256=d6c724a327649651dd3b9597eee9e83969c04568ea2eb6f778604c867139f8ce\n",
            "  Stored in directory: /root/.cache/pip/wheels/0e/b7/36/aa37256db62b4bfd35a6f1b5536e9ba843f257b79dcbf3d5f1\n",
            "Successfully built preprocessor\n",
            "Installing collected packages: preprocessor\n",
            "Successfully installed preprocessor-1.1.3\n"
          ]
        }
      ]
    },
    {
      "cell_type": "code",
      "source": [
        "consumer_key = \"BIaJUzHsFofMra4xaU87ExKUC\"\n",
        "consumer_secret = \"NS75s8fu5VJ7UHZmd6YV7NTJrewUnBbJcMUUeSqUjMFUmwSHy3\"\n",
        "access_key = \"1565707048419004418-qtZQr5slXWwgUaj4wexktuFqfj9Z13\"\n",
        "access_secret = \"Y2J5e0P7s0oZ2ctXJLaz8eqG7kDcpqBMJhHBnlpSTKfIc\""
      ],
      "metadata": {
        "id": "GthsuW5qWZ_l"
      },
      "execution_count": 6,
      "outputs": []
    },
    {
      "cell_type": "code",
      "source": [
        "# Twitter authentication\n",
        "auth = tweepy.OAuthHandler(consumer_key, consumer_secret)   \n",
        "auth.set_access_token(access_key, access_secret) \n",
        "  \n",
        "# Creating an API object \n",
        "api = tweepy.API(auth, wait_on_rate_limit=True)"
      ],
      "metadata": {
        "id": "_5kUYdH_YLIY"
      },
      "execution_count": 7,
      "outputs": []
    },
    {
      "cell_type": "code",
      "source": [
        "# for general serch such as #hashtags, @mentions, and keywords\n",
        "search_query = \"@elonmusk\"\n",
        "username_tweets = tweepy.Cursor(api.search, q=search_query, tweet_mode='extended').items(5)\n",
        "\n",
        "# for specific user timeline\n",
        "#search_query = \"elonmusk\"\n",
        "#username_tweets = tweepy.Cursor(api.user_timeline, q=search_query, tweet_mode='extended').items(5)\n",
        "\n"
      ],
      "metadata": {
        "id": "lufGsoNLYLhz"
      },
      "execution_count": 33,
      "outputs": []
    },
    {
      "cell_type": "code",
      "source": [
        "for tweet in username_tweets:\n",
        "    text = tweet._json[\"full_text\"]\n",
        "    print(text)\n",
        "    #using different attributes\n",
        "    #print(tweet.favorite_count)\n",
        "    #print(tweet.retweet_count)\n",
        "    print(tweet.created_at)\n",
        "    print()\n",
        "    print()"
      ],
      "metadata": {
        "colab": {
          "base_uri": "https://localhost:8080/"
        },
        "id": "m0IAn7UyamDl",
        "outputId": "353fd9eb-b2c4-46b3-97a1-0d939f40020a"
      },
      "execution_count": 34,
      "outputs": [
        {
          "output_type": "stream",
          "name": "stdout",
          "text": [
            "@KewDiepieiran @alikarimi_ak8 @elonmusk #مهسا_امینی\n",
            "2022-09-20 15:11:52\n",
            "\n",
            "\n",
            "RT @agusantonetti: @elonmusk @erfan_kasraie Could you do the same for other countries under a dictatorship like Cuba for example? You will…\n",
            "2022-09-20 15:11:52\n",
            "\n",
            "\n",
            "@Sanemi_inu @BabyDogeCoin @elonmusk @cz_binance @binance @CRYPT_BOSSY @CaesarsCalls @VenomCrypto_ I have a very good proposal! Send DM 📩 https://t.co/PSqMVKQhtI\n",
            "2022-09-20 15:11:51\n",
            "\n",
            "\n",
            "RT @elonmusk: @ToscaMusk @kimbal Happy birthday bro, love you\n",
            "2022-09-20 15:11:47\n",
            "\n",
            "\n",
            "RT @agusantonetti: @elonmusk @erfan_kasraie Starlink is a hope for the fight for freedom in Latin America, we trust you, thank you so much…\n",
            "2022-09-20 15:11:47\n",
            "\n",
            "\n"
          ]
        }
      ]
    }
  ]
}