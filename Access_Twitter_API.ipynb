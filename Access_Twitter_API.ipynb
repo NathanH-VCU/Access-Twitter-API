{
  "nbformat": 4,
  "nbformat_minor": 0,
  "metadata": {
    "colab": {
      "provenance": [],
      "collapsed_sections": [],
      "include_colab_link": true
    },
    "kernelspec": {
      "name": "python3",
      "display_name": "Python 3"
    },
    "language_info": {
      "name": "python"
    }
  },
  "cells": [
    {
      "cell_type": "markdown",
      "metadata": {
        "id": "view-in-github",
        "colab_type": "text"
      },
      "source": [
        "<a href=\"https://colab.research.google.com/github/NathanH-VCU/Sentiment-Analysis-Nourchene-Nathan/blob/main/Access_Twitter_API.ipynb\" target=\"_parent\"><img src=\"https://colab.research.google.com/assets/colab-badge.svg\" alt=\"Open In Colab\"/></a>"
      ]
    },
    {
      "cell_type": "code",
      "source": [
        "!pip install tweet-preprocessor\n",
        "!pip install tweepy\n",
        "import preprocessor as p\n",
        "from tweepy.auth import OAuthHandler"
      ],
      "metadata": {
        "colab": {
          "base_uri": "https://localhost:8080/"
        },
        "id": "YEKFxD0BauFe",
        "outputId": "539a127a-86da-4c94-f263-9c9535f5e6a0"
      },
      "execution_count": 14,
      "outputs": [
        {
          "output_type": "stream",
          "name": "stdout",
          "text": [
            "Looking in indexes: https://pypi.org/simple, https://us-python.pkg.dev/colab-wheels/public/simple/\n",
            "Requirement already satisfied: tweet-preprocessor in /usr/local/lib/python3.7/dist-packages (0.6.0)\n",
            "Looking in indexes: https://pypi.org/simple, https://us-python.pkg.dev/colab-wheels/public/simple/\n",
            "Requirement already satisfied: tweepy in /usr/local/lib/python3.7/dist-packages (3.10.0)\n",
            "Requirement already satisfied: requests-oauthlib>=0.7.0 in /usr/local/lib/python3.7/dist-packages (from tweepy) (1.3.1)\n",
            "Requirement already satisfied: requests[socks]>=2.11.1 in /usr/local/lib/python3.7/dist-packages (from tweepy) (2.23.0)\n",
            "Requirement already satisfied: six>=1.10.0 in /usr/local/lib/python3.7/dist-packages (from tweepy) (1.15.0)\n",
            "Requirement already satisfied: oauthlib>=3.0.0 in /usr/local/lib/python3.7/dist-packages (from requests-oauthlib>=0.7.0->tweepy) (3.2.1)\n",
            "Requirement already satisfied: certifi>=2017.4.17 in /usr/local/lib/python3.7/dist-packages (from requests[socks]>=2.11.1->tweepy) (2022.9.24)\n",
            "Requirement already satisfied: idna<3,>=2.5 in /usr/local/lib/python3.7/dist-packages (from requests[socks]>=2.11.1->tweepy) (2.10)\n",
            "Requirement already satisfied: chardet<4,>=3.0.2 in /usr/local/lib/python3.7/dist-packages (from requests[socks]>=2.11.1->tweepy) (3.0.4)\n",
            "Requirement already satisfied: urllib3!=1.25.0,!=1.25.1,<1.26,>=1.21.1 in /usr/local/lib/python3.7/dist-packages (from requests[socks]>=2.11.1->tweepy) (1.24.3)\n",
            "Requirement already satisfied: PySocks!=1.5.7,>=1.5.6 in /usr/local/lib/python3.7/dist-packages (from requests[socks]>=2.11.1->tweepy) (1.7.1)\n"
          ]
        }
      ]
    },
    {
      "cell_type": "code",
      "execution_count": 8,
      "metadata": {
        "id": "dPoOmmkKWB-w"
      },
      "outputs": [],
      "source": [
        "import tweepy\n",
        "import pandas as pd\n",
        "import csv\n",
        "import re \n",
        "import string\n"
      ]
    },
    {
      "cell_type": "code",
      "source": [
        "consumer_key = \"BIaJUzHsFofMra4xaU87ExKUC\"\n",
        "consumer_secret = \"NS75s8fu5VJ7UHZmd6YV7NTJrewUnBbJcMUUeSqUjMFUmwSHy3\"\n",
        "access_key = \"1565707048419004418-qtZQr5slXWwgUaj4wexktuFqfj9Z13\"\n",
        "access_secret = \"Y2J5e0P7s0oZ2ctXJLaz8eqG7kDcpqBMJhHBnlpSTKfIc\"\n",
        "bearer_token = \"AAAAAAAAAAAAAAAAAAAAAB%2BWggEAAAAAG8CMCiCXbi1DO4JW0e7JLQwfs30%3D1UMgKbDENqKsWxn7TxPUp2heWwtl3Xw3ZGyjCKVx2ttAOakaWe\""
      ],
      "metadata": {
        "id": "GthsuW5qWZ_l"
      },
      "execution_count": 9,
      "outputs": []
    },
    {
      "cell_type": "code",
      "source": [
        "# Twitter authentication\n",
        "auth = tweepy.OAuthHandler(consumer_key, consumer_secret)   \n",
        "auth.set_access_token(access_key, access_secret) \n",
        "  \n",
        "# Creating an API object \n",
        "api = tweepy.API(auth, wait_on_rate_limit=True)"
      ],
      "metadata": {
        "id": "_5kUYdH_YLIY"
      },
      "execution_count": 15,
      "outputs": []
    },
    {
      "cell_type": "code",
      "source": [
        "# For simplicity we will just pull the recent tweets that are replies to YouTube\n",
        "name='YouTube'\n",
        "tweet_replies=[]\n",
        "for tweet in tweepy.Cursor(api.search,q='to:'+name, result_type='recent', timeout=999999, lang='en', tweet_mode='extended').items(5000):\n",
        "  if (len(tweet.full_text.split()) > 6 and tweet.in_reply_to_status_id_str != None):\n",
        "    tweet_replies.append(tweet)\n"
      ],
      "metadata": {
        "id": "n6GI4EufvFmR"
      },
      "execution_count": 36,
      "outputs": []
    },
    {
      "cell_type": "code",
      "source": [
        "print(len(tweet_replies))"
      ],
      "metadata": {
        "colab": {
          "base_uri": "https://localhost:8080/"
        },
        "id": "fknwQw991_Yp",
        "outputId": "9cd8acc9-ff88-418f-e03e-edf399a0cf50"
      },
      "execution_count": 37,
      "outputs": [
        {
          "output_type": "stream",
          "name": "stdout",
          "text": [
            "1862\n"
          ]
        }
      ]
    },
    {
      "cell_type": "code",
      "source": [
        "#  Testing for the correct paths\n",
        "\n",
        "# for tweet in tweet_replies:\n",
        "#   print(tweet.in_reply_to_status_id_str)\n",
        "#   print(api.get_status(tweet.in_reply_to_status_id_str).text)"
      ],
      "metadata": {
        "colab": {
          "base_uri": "https://localhost:8080/"
        },
        "id": "XojCO6tvyjaM",
        "outputId": "5caac94b-3e8f-4ff0-e1f7-1bc85f243ac9"
      },
      "execution_count": 30,
      "outputs": [
        {
          "output_type": "stream",
          "name": "stdout",
          "text": [
            "1581676384690528257\n",
            "best creator to watch when you wanna get ~spooky~\n",
            "1581344151115010049\n",
            "jump scare me 😤\n",
            "1581374350372278274\n",
            "put a finger down if you’ve watched way too many chiropractic videos\n",
            "1581344151115010049\n",
            "jump scare me 😤\n",
            "1581676384690528257\n",
            "best creator to watch when you wanna get ~spooky~\n"
          ]
        }
      ]
    },
    {
      "cell_type": "code",
      "source": [
        "with open('replies.csv', 'w') as f:\n",
        "    csv_writer = csv.DictWriter(f, fieldnames=('origional tweet', 'reply','user'))\n",
        "    csv_writer.writeheader()\n",
        "    for tweet in tweet_replies:\n",
        "        row = {'origional tweet': api.get_status(tweet.in_reply_to_status_id_str).text, 'reply': tweet.full_text.replace('\\n', ' '),'user': tweet.user.name }\n",
        "        csv_writer.writerow(row)"
      ],
      "metadata": {
        "id": "CTTacKAmxTqG"
      },
      "execution_count": 38,
      "outputs": []
    },
    {
      "cell_type": "code",
      "source": [
        "data = pd.read_csv(\"replies.csv\")\n",
        "text = data['reply']\n",
        "\n",
        "with open('replies_clean.csv', 'w') as f:\n",
        "    writer = csv.writer(f)\n",
        "    #clean_header = tweepy.API(auth).get_status(tweet_id).text\n",
        "    clean_header = 'Replies Clean'\n",
        "    writer.writerow([clean_header])\n",
        "    for row in csv.reader(text):\n",
        "        row1 = p.clean(row[0])\n",
        "        if len(str(row1).split()) > 6:\n",
        "          writer.writerow([row1])"
      ],
      "metadata": {
        "id": "ul2ENRKfXpgD"
      },
      "execution_count": null,
      "outputs": []
    }
  ]
}