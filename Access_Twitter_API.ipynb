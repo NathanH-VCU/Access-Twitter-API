{
  "nbformat": 4,
  "nbformat_minor": 0,
  "metadata": {
    "colab": {
      "provenance": [],
      "collapsed_sections": [],
      "include_colab_link": true
    },
    "kernelspec": {
      "name": "python3",
      "display_name": "Python 3"
    },
    "language_info": {
      "name": "python"
    }
  },
  "cells": [
    {
      "cell_type": "markdown",
      "metadata": {
        "id": "view-in-github",
        "colab_type": "text"
      },
      "source": [
        "<a href=\"https://colab.research.google.com/github/NathanH-VCU/Access-Twitter-API/blob/main/Access_Twitter_API.ipynb\" target=\"_parent\"><img src=\"https://colab.research.google.com/assets/colab-badge.svg\" alt=\"Open In Colab\"/></a>"
      ]
    },
    {
      "cell_type": "code",
      "execution_count": 77,
      "metadata": {
        "id": "dPoOmmkKWB-w"
      },
      "outputs": [],
      "source": [
        "import tweepy\n",
        "import pandas as pd\n",
        "import csv\n",
        "import re \n",
        "import string\n"
      ]
    },
    {
      "cell_type": "code",
      "source": [
        "!pip install preprocessor\n",
        "import preprocessor as p"
      ],
      "metadata": {
        "colab": {
          "base_uri": "https://localhost:8080/"
        },
        "id": "YEKFxD0BauFe",
        "outputId": "15163e03-90ee-4d0f-a645-fe6c39cd6c31"
      },
      "execution_count": 78,
      "outputs": [
        {
          "output_type": "stream",
          "name": "stdout",
          "text": [
            "Looking in indexes: https://pypi.org/simple, https://us-python.pkg.dev/colab-wheels/public/simple/\n",
            "Requirement already satisfied: preprocessor in /usr/local/lib/python3.7/dist-packages (1.1.3)\n"
          ]
        }
      ]
    },
    {
      "cell_type": "code",
      "source": [
        "consumer_key = \"BIaJUzHsFofMra4xaU87ExKUC\"\n",
        "consumer_secret = \"NS75s8fu5VJ7UHZmd6YV7NTJrewUnBbJcMUUeSqUjMFUmwSHy3\"\n",
        "access_key = \"1565707048419004418-qtZQr5slXWwgUaj4wexktuFqfj9Z13\"\n",
        "access_secret = \"Y2J5e0P7s0oZ2ctXJLaz8eqG7kDcpqBMJhHBnlpSTKfIc\""
      ],
      "metadata": {
        "id": "GthsuW5qWZ_l"
      },
      "execution_count": 79,
      "outputs": []
    },
    {
      "cell_type": "code",
      "source": [
        "# Twitter authentication\n",
        "auth = tweepy.OAuthHandler(consumer_key, consumer_secret)   \n",
        "auth.set_access_token(access_key, access_secret) \n",
        "  \n",
        "# Creating an API object \n",
        "api = tweepy.API(auth, wait_on_rate_limit=True)"
      ],
      "metadata": {
        "id": "_5kUYdH_YLIY"
      },
      "execution_count": 80,
      "outputs": []
    },
    {
      "cell_type": "code",
      "source": [
        "name = 'YouTube'\n",
        "tweet_id = '1575236408406642689'\n",
        "\n",
        "replies=[]\n",
        "for tweet in tweepy.Cursor(api.search,q='to:'+name, result_type='recent', timeout=999999).items(50):\n",
        "    if hasattr(tweet, 'in_reply_to_status_id_str'):\n",
        "        if (tweet.in_reply_to_status_id_str==tweet_id):\n",
        "            replies.append(tweet)\n",
        "\n",
        "with open('replies.csv', 'w') as f:\n",
        "    csv_writer = csv.DictWriter(f, fieldnames=('date/time', 'user', 'text'))\n",
        "    csv_writer.writeheader()\n",
        "    for tweet in replies:\n",
        "        row = {'date/time': tweet.created_at, 'user': tweet.user.screen_name, 'text': tweet.text.replace('\\n', ' ')}\n",
        "        csv_writer.writerow(row)"
      ],
      "metadata": {
        "id": "EGKhey7EmPza"
      },
      "execution_count": 81,
      "outputs": []
    },
    {
      "cell_type": "code",
      "source": [
        "# for general serch such as #hashtags, @mentions, and keywords\n",
        "# search_query = \"YouTube\"\n",
        "# username_tweets = tweepy.Cursor(api.search, q='to:'+search_query, tweet_mode='extended', lang=[\"en\"], result_type='recent').items(50)\n",
        "\n",
        "# for specific user timeline\n",
        "#search_query = \"elonmusk\"\n",
        "#username_tweets = tweepy.Cursor(api.user_timeline, q=search_query, tweet_mode='extended').items(5)\n",
        "\n"
      ],
      "metadata": {
        "id": "lufGsoNLYLhz"
      },
      "execution_count": 82,
      "outputs": []
    },
    {
      "cell_type": "code",
      "source": [
        "# f = open(\"tweets.txt\", \"w\")\n",
        "\n",
        "# for tweet in username_tweets:\n",
        "#     text = tweet._json[\"full_text\"]\n",
        "    \n",
        "    \n",
        "#     f.write(text)\n",
        "#     f.write('\\n')\n",
        "#     f.write('-----------------------------------------------------------')\n",
        "#     f.write('\\n')\n",
        "    \n",
        "#     # date_time = tweet.created_at\n",
        "#     # f.write(str(date_time))\n",
        "#     # f.write('\\n')\n",
        "#     # f.write('\\n')\n",
        "\n",
        "# f.close()\n",
        "# f = open(\"tweets.txt\", \"r\")\n",
        "# print(f.read())\n",
        "    \n",
        "    #print(text)\n",
        "    #using different attributes\n",
        "    #print(tweet.favorite_count)\n",
        "    #print(tweet.retweet_count)\n",
        "    #print(tweet.created_at)\n",
        "    #print()\n",
        "    #print()"
      ],
      "metadata": {
        "id": "m0IAn7UyamDl"
      },
      "execution_count": 83,
      "outputs": []
    },
    {
      "cell_type": "code",
      "source": [
        "data = pd.read_csv(\"replies.csv\")\n",
        "text = data['text']\n",
        "\n",
        "with open('replies_clean.csv', 'w') as f:\n",
        "    writer = csv.writer(f)\n",
        "    writer.writerow([\"Text\"])\n",
        "    for row in csv.reader(text):\n",
        "        row1 = p.clean(row[0])\n",
        "        if row1 != '':\n",
        "          writer.writerow([row1])"
      ],
      "metadata": {
        "id": "ul2ENRKfXpgD"
      },
      "execution_count": 90,
      "outputs": []
    },
    {
      "cell_type": "code",
      "source": [],
      "metadata": {
        "id": "Ug6n0jSNed02"
      },
      "execution_count": 84,
      "outputs": []
    }
  ]
}