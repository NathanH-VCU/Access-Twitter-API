{
  "nbformat": 4,
  "nbformat_minor": 0,
  "metadata": {
    "colab": {
      "provenance": [],
      "collapsed_sections": [],
      "include_colab_link": true
    },
    "kernelspec": {
      "name": "python3",
      "display_name": "Python 3"
    },
    "language_info": {
      "name": "python"
    }
  },
  "cells": [
    {
      "cell_type": "markdown",
      "metadata": {
        "id": "view-in-github",
        "colab_type": "text"
      },
      "source": [
        "<a href=\"https://colab.research.google.com/github/NathanH-VCU/Access-Twitter-API/blob/main/Access_Twitter_API.ipynb\" target=\"_parent\"><img src=\"https://colab.research.google.com/assets/colab-badge.svg\" alt=\"Open In Colab\"/></a>"
      ]
    },
    {
      "cell_type": "code",
      "execution_count": null,
      "metadata": {
        "id": "dPoOmmkKWB-w"
      },
      "outputs": [],
      "source": [
        "import tweepy\n",
        "import pandas as pd\n",
        "import csv\n",
        "import re \n",
        "import string\n"
      ]
    },
    {
      "cell_type": "code",
      "source": [
        "!pip install preprocessor"
      ],
      "metadata": {
        "colab": {
          "base_uri": "https://localhost:8080/"
        },
        "id": "YEKFxD0BauFe",
        "outputId": "f6995f2b-fa9f-44fd-caef-d976edab9dd0"
      },
      "execution_count": null,
      "outputs": [
        {
          "output_type": "stream",
          "name": "stdout",
          "text": [
            "Looking in indexes: https://pypi.org/simple, https://us-python.pkg.dev/colab-wheels/public/simple/\n",
            "Requirement already satisfied: preprocessor in /usr/local/lib/python3.7/dist-packages (1.1.3)\n"
          ]
        }
      ]
    },
    {
      "cell_type": "code",
      "source": [
        "consumer_key = \"BIaJUzHsFofMra4xaU87ExKUC\"\n",
        "consumer_secret = \"NS75s8fu5VJ7UHZmd6YV7NTJrewUnBbJcMUUeSqUjMFUmwSHy3\"\n",
        "access_key = \"1565707048419004418-qtZQr5slXWwgUaj4wexktuFqfj9Z13\"\n",
        "access_secret = \"Y2J5e0P7s0oZ2ctXJLaz8eqG7kDcpqBMJhHBnlpSTKfIc\""
      ],
      "metadata": {
        "id": "GthsuW5qWZ_l"
      },
      "execution_count": null,
      "outputs": []
    },
    {
      "cell_type": "code",
      "source": [
        "# Twitter authentication\n",
        "auth = tweepy.OAuthHandler(consumer_key, consumer_secret)   \n",
        "auth.set_access_token(access_key, access_secret) \n",
        "  \n",
        "# Creating an API object \n",
        "api = tweepy.API(auth, wait_on_rate_limit=True)"
      ],
      "metadata": {
        "id": "_5kUYdH_YLIY"
      },
      "execution_count": null,
      "outputs": []
    },
    {
      "cell_type": "code",
      "source": [
        "# for general serch such as #hashtags, @mentions, and keywords\n",
        "search_query = \"@elonmusk\"\n",
        "username_tweets = tweepy.Cursor(api.search, q=search_query, tweet_mode='extended').items(5)\n",
        "\n",
        "# for specific user timeline\n",
        "#search_query = \"elonmusk\"\n",
        "#username_tweets = tweepy.Cursor(api.user_timeline, q=search_query, tweet_mode='extended').items(5)\n",
        "\n"
      ],
      "metadata": {
        "id": "lufGsoNLYLhz"
      },
      "execution_count": null,
      "outputs": []
    },
    {
      "cell_type": "code",
      "source": [
        "f = open(\"tweets.txt\", \"w\")\n",
        "\n",
        "for tweet in username_tweets:\n",
        "    text = tweet._json[\"full_text\"]\n",
        "    \n",
        "    \n",
        "    f.write(text)\n",
        "    f.write('\\n')\n",
        "    date_time = tweet.created_at\n",
        "    f.write(str(date_time))\n",
        "    f.write('\\n')\n",
        "    f.write('\\n')\n",
        "\n",
        "f.close()\n",
        "f = open(\"tweets.txt\", \"r\")\n",
        "print(f.read())\n",
        "    \n",
        "    #print(text)\n",
        "    #using different attributes\n",
        "    #print(tweet.favorite_count)\n",
        "    #print(tweet.retweet_count)\n",
        "    #print(tweet.created_at)\n",
        "    #print()\n",
        "    #print()"
      ],
      "metadata": {
        "colab": {
          "base_uri": "https://localhost:8080/"
        },
        "id": "m0IAn7UyamDl",
        "outputId": "f8a7db4a-a534-4be4-b779-f277c3f4f26b"
      },
      "execution_count": null,
      "outputs": [
        {
          "output_type": "stream",
          "name": "stdout",
          "text": [
            "RT @BelendLaura: @CloudflareRadar @Cloudflare @irancell Please help. @elonmusk @YourAnonOne @AnonymousVideo @AnonymousUK2022 As you see abo…\n",
            "2022-09-22 16:38:37\n",
            "\n",
            "@elonmusk @MuskUniversity I don't think so.\n",
            "2022-09-22 16:38:36\n",
            "\n",
            "@AnonOpsSE @AnonOpsSE Tweet @elonmusk for starlink help...\n",
            "2022-09-22 16:38:36\n",
            "\n",
            "@Madgalmusic @elonmusk If you don't hear from us later, know that they disable our internet so that we can't send our voice to the world.@elonmusk \n",
            "#MahsaAmini \n",
            "#OpIran\n",
            "2022-09-22 16:38:36\n",
            "\n",
            "@elonmusk @MuskUniversity Help the people of Iran to stop the internet... Please, people need your help #MahsaAmini #OpIran #مهسا_امینی #مهساامینی\n",
            "2022-09-22 16:38:36\n",
            "\n",
            "\n"
          ]
        }
      ]
    }
  ]
}