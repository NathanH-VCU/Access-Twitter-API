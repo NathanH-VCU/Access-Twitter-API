{
  "nbformat": 4,
  "nbformat_minor": 0,
  "metadata": {
    "colab": {
      "provenance": [],
      "authorship_tag": "ABX9TyMmQLs9XnED9kv018bUw7sG",
      "include_colab_link": true
    },
    "kernelspec": {
      "name": "python3",
      "display_name": "Python 3"
    },
    "language_info": {
      "name": "python"
    }
  },
  "cells": [
    {
      "cell_type": "markdown",
      "metadata": {
        "id": "view-in-github",
        "colab_type": "text"
      },
      "source": [
        "<a href=\"https://colab.research.google.com/github/NathanH-VCU/Access-Twitter-API/blob/main/Access_Twitter_API.ipynb\" target=\"_parent\"><img src=\"https://colab.research.google.com/assets/colab-badge.svg\" alt=\"Open In Colab\"/></a>"
      ]
    },
    {
      "cell_type": "code",
      "execution_count": 20,
      "metadata": {
        "id": "dPoOmmkKWB-w"
      },
      "outputs": [],
      "source": [
        "import tweepy\n",
        "import pandas as pd\n",
        "import csv\n",
        "import re \n",
        "import string\n",
        "import preprocessor as p"
      ]
    },
    {
      "cell_type": "code",
      "source": [
        "!pip install preprocessor"
      ],
      "metadata": {
        "colab": {
          "base_uri": "https://localhost:8080/"
        },
        "id": "YEKFxD0BauFe",
        "outputId": "a053bb5d-9451-466a-aa9c-61211e54a011"
      },
      "execution_count": 21,
      "outputs": [
        {
          "output_type": "stream",
          "name": "stdout",
          "text": [
            "Looking in indexes: https://pypi.org/simple, https://us-python.pkg.dev/colab-wheels/public/simple/\n",
            "Requirement already satisfied: preprocessor in /usr/local/lib/python3.7/dist-packages (1.1.3)\n"
          ]
        }
      ]
    },
    {
      "cell_type": "code",
      "source": [
        "consumer_key = \"BIaJUzHsFofMra4xaU87ExKUC\"\n",
        "consumer_secret = \"NS75s8fu5VJ7UHZmd6YV7NTJrewUnBbJcMUUeSqUjMFUmwSHy3\"\n",
        "access_key = \"1565707048419004418-qtZQr5slXWwgUaj4wexktuFqfj9Z13\"\n",
        "access_secret = \"Y2J5e0P7s0oZ2ctXJLaz8eqG7kDcpqBMJhHBnlpSTKfIc\""
      ],
      "metadata": {
        "id": "GthsuW5qWZ_l"
      },
      "execution_count": 22,
      "outputs": []
    },
    {
      "cell_type": "code",
      "source": [
        "# Twitter authentication\n",
        "auth = tweepy.OAuthHandler(consumer_key, consumer_secret)   \n",
        "auth.set_access_token(access_key, access_secret) \n",
        "  \n",
        "# Creating an API object \n",
        "api = tweepy.API(auth, wait_on_rate_limit=True)"
      ],
      "metadata": {
        "id": "_5kUYdH_YLIY"
      },
      "execution_count": 23,
      "outputs": []
    },
    {
      "cell_type": "code",
      "source": [
        "username_tweets = tweepy.Cursor(api.search, q=\"@elonmusk\", tweet_mode='extended').items(5)"
      ],
      "metadata": {
        "id": "lufGsoNLYLhz"
      },
      "execution_count": 24,
      "outputs": []
    },
    {
      "cell_type": "code",
      "source": [
        "for tweet in username_tweets:\n",
        "    text = tweet._json[\"full_text\"]\n",
        "    print(text)\n",
        "    #using different attributes\n",
        "    print(tweet.favorite_count)\n",
        "    print(tweet.retweet_count)\n",
        "    print(tweet.created_at)"
      ],
      "metadata": {
        "colab": {
          "base_uri": "https://localhost:8080/"
        },
        "id": "m0IAn7UyamDl",
        "outputId": "85815086-2ed3-46ca-a6ff-c911cfcf20bd"
      },
      "execution_count": 27,
      "outputs": [
        {
          "output_type": "stream",
          "name": "stdout",
          "text": [
            "RT @GreenblattJD: I’m in an @uber; told driver nice Tesla. He said-nope. His window leaks in car wash. Tesla service said 2 weeks to diagno…\n",
            "0\n",
            "18\n",
            "2022-09-15 18:40:56\n",
            "@TRUMP4FEDPRISON @elonmusk Thank the gods!\n",
            "0\n",
            "0\n",
            "2022-09-15 18:40:54\n",
            "@DavidLenartowi1 @Merry42069 @lionelclone @CCuntamed @PryZmRuleZZ @TeslaDarth @tearsintherain1 @devine1jojo @Sakalichi @Raychii00420 @musicphantom69 @lMenunieraglae @wacojenni @DogeAccept @Elizabe21126498 @ShinyNumbers @safferguru @1st_Akkadian @xdianalandx @benjsequations @RENATUSInc5000 @JupitorAscendi1 @MedicineManWalk @cultureAwear @Eminem @elonmusk @occupymars42069 @SnoopDogg @jamielsimon @TeslaAiBotgirl @ING @Fact Good\n",
            "0\n",
            "0\n",
            "2022-09-15 18:40:54\n",
            "RT @joshrealnice: Everyone has right to freedom of opinion and expression. Asking for freedom is not a crime. FREE MAZI NNAMDI KANU. @MaziN…\n",
            "0\n",
            "257\n",
            "2022-09-15 18:40:52\n",
            "@elonmusk @ilyasut Wear it and post here, stocks of your companies will 🚀 instantly\n",
            "0\n",
            "0\n",
            "2022-09-15 18:40:52\n"
          ]
        }
      ]
    }
  ]
}