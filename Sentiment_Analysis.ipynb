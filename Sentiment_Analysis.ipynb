{
  "nbformat": 4,
  "nbformat_minor": 0,
  "metadata": {
    "colab": {
      "provenance": [],
      "mount_file_id": "1pcmVzKkgCeLkFlizxYqI2TLtv6OzgYMh",
      "authorship_tag": "ABX9TyPXHFgFpYXGowsjxhUDYlfa",
      "include_colab_link": true
    },
    "kernelspec": {
      "name": "python3",
      "display_name": "Python 3"
    },
    "language_info": {
      "name": "python"
    }
  },
  "cells": [
    {
      "cell_type": "markdown",
      "metadata": {
        "id": "view-in-github",
        "colab_type": "text"
      },
      "source": [
        "<a href=\"https://colab.research.google.com/github/NathanH-VCU/Access-Twitter-API/blob/main/Sentiment_Analysis.ipynb\" target=\"_parent\"><img src=\"https://colab.research.google.com/assets/colab-badge.svg\" alt=\"Open In Colab\"/></a>"
      ]
    },
    {
      "cell_type": "code",
      "source": [
        "# online tutorial followed: https://towardsdatascience.com/a-complete-step-by-step-tutorial-on-sentiment-analysis-in-keras-and-tensorflow-ea420cc8913f"
      ],
      "metadata": {
        "id": "oCd83mDvzFwU"
      },
      "execution_count": 46,
      "outputs": []
    },
    {
      "cell_type": "code",
      "execution_count": 47,
      "metadata": {
        "id": "VBKgrfJFhNTA",
        "colab": {
          "base_uri": "https://localhost:8080/"
        },
        "outputId": "c3d5ea26-27f7-4628-ce34-3b00066188dc"
      },
      "outputs": [
        {
          "output_type": "stream",
          "name": "stdout",
          "text": [
            "Drive already mounted at /content/drive; to attempt to forcibly remount, call drive.mount(\"/content/drive\", force_remount=True).\n"
          ]
        }
      ],
      "source": [
        "from google.colab import drive\n",
        "drive.mount('/content/drive')"
      ]
    },
    {
      "cell_type": "code",
      "source": [
        "import pandas as pd\n",
        "import io\n",
        "import tensorflow\n",
        "url = 'https://raw.githubusercontent.com/NathanH-VCU/Access-Twitter-API/main/src/amazon_baby_edited.csv'\n",
        "df = pd.read_csv(url)\n",
        "df.head()"
      ],
      "metadata": {
        "colab": {
          "base_uri": "https://localhost:8080/",
          "height": 206
        },
        "id": "TwUiP6llm8OM",
        "outputId": "5a45e695-a430-4c4e-f857-7b628fd10d6f"
      },
      "execution_count": 48,
      "outputs": [
        {
          "output_type": "execute_result",
          "data": {
            "text/plain": [
              "                                                name  \\\n",
              "0                           Planetwise Flannel Wipes   \n",
              "1                              Planetwise Wipe Pouch   \n",
              "2                Annas Dream Full Quilt with 2 Shams   \n",
              "3  Stop Pacifier Sucking without tears with Thumb...   \n",
              "4  Stop Pacifier Sucking without tears with Thumb...   \n",
              "\n",
              "                                              review  rating  \n",
              "0  These flannel wipes are OK, but in my opinion ...       3  \n",
              "1  it came early and was not disappointed. i love...       5  \n",
              "2  Very soft and comfortable and warmer than it l...       5  \n",
              "3  This is a product well worth the purchase.  I ...       5  \n",
              "4  All of my kids have cried non-stop when I trie...       5  "
            ],
            "text/html": [
              "\n",
              "  <div id=\"df-f0e30e29-641a-4ffb-aff8-b0e29d23dc99\">\n",
              "    <div class=\"colab-df-container\">\n",
              "      <div>\n",
              "<style scoped>\n",
              "    .dataframe tbody tr th:only-of-type {\n",
              "        vertical-align: middle;\n",
              "    }\n",
              "\n",
              "    .dataframe tbody tr th {\n",
              "        vertical-align: top;\n",
              "    }\n",
              "\n",
              "    .dataframe thead th {\n",
              "        text-align: right;\n",
              "    }\n",
              "</style>\n",
              "<table border=\"1\" class=\"dataframe\">\n",
              "  <thead>\n",
              "    <tr style=\"text-align: right;\">\n",
              "      <th></th>\n",
              "      <th>name</th>\n",
              "      <th>review</th>\n",
              "      <th>rating</th>\n",
              "    </tr>\n",
              "  </thead>\n",
              "  <tbody>\n",
              "    <tr>\n",
              "      <th>0</th>\n",
              "      <td>Planetwise Flannel Wipes</td>\n",
              "      <td>These flannel wipes are OK, but in my opinion ...</td>\n",
              "      <td>3</td>\n",
              "    </tr>\n",
              "    <tr>\n",
              "      <th>1</th>\n",
              "      <td>Planetwise Wipe Pouch</td>\n",
              "      <td>it came early and was not disappointed. i love...</td>\n",
              "      <td>5</td>\n",
              "    </tr>\n",
              "    <tr>\n",
              "      <th>2</th>\n",
              "      <td>Annas Dream Full Quilt with 2 Shams</td>\n",
              "      <td>Very soft and comfortable and warmer than it l...</td>\n",
              "      <td>5</td>\n",
              "    </tr>\n",
              "    <tr>\n",
              "      <th>3</th>\n",
              "      <td>Stop Pacifier Sucking without tears with Thumb...</td>\n",
              "      <td>This is a product well worth the purchase.  I ...</td>\n",
              "      <td>5</td>\n",
              "    </tr>\n",
              "    <tr>\n",
              "      <th>4</th>\n",
              "      <td>Stop Pacifier Sucking without tears with Thumb...</td>\n",
              "      <td>All of my kids have cried non-stop when I trie...</td>\n",
              "      <td>5</td>\n",
              "    </tr>\n",
              "  </tbody>\n",
              "</table>\n",
              "</div>\n",
              "      <button class=\"colab-df-convert\" onclick=\"convertToInteractive('df-f0e30e29-641a-4ffb-aff8-b0e29d23dc99')\"\n",
              "              title=\"Convert this dataframe to an interactive table.\"\n",
              "              style=\"display:none;\">\n",
              "        \n",
              "  <svg xmlns=\"http://www.w3.org/2000/svg\" height=\"24px\"viewBox=\"0 0 24 24\"\n",
              "       width=\"24px\">\n",
              "    <path d=\"M0 0h24v24H0V0z\" fill=\"none\"/>\n",
              "    <path d=\"M18.56 5.44l.94 2.06.94-2.06 2.06-.94-2.06-.94-.94-2.06-.94 2.06-2.06.94zm-11 1L8.5 8.5l.94-2.06 2.06-.94-2.06-.94L8.5 2.5l-.94 2.06-2.06.94zm10 10l.94 2.06.94-2.06 2.06-.94-2.06-.94-.94-2.06-.94 2.06-2.06.94z\"/><path d=\"M17.41 7.96l-1.37-1.37c-.4-.4-.92-.59-1.43-.59-.52 0-1.04.2-1.43.59L10.3 9.45l-7.72 7.72c-.78.78-.78 2.05 0 2.83L4 21.41c.39.39.9.59 1.41.59.51 0 1.02-.2 1.41-.59l7.78-7.78 2.81-2.81c.8-.78.8-2.07 0-2.86zM5.41 20L4 18.59l7.72-7.72 1.47 1.35L5.41 20z\"/>\n",
              "  </svg>\n",
              "      </button>\n",
              "      \n",
              "  <style>\n",
              "    .colab-df-container {\n",
              "      display:flex;\n",
              "      flex-wrap:wrap;\n",
              "      gap: 12px;\n",
              "    }\n",
              "\n",
              "    .colab-df-convert {\n",
              "      background-color: #E8F0FE;\n",
              "      border: none;\n",
              "      border-radius: 50%;\n",
              "      cursor: pointer;\n",
              "      display: none;\n",
              "      fill: #1967D2;\n",
              "      height: 32px;\n",
              "      padding: 0 0 0 0;\n",
              "      width: 32px;\n",
              "    }\n",
              "\n",
              "    .colab-df-convert:hover {\n",
              "      background-color: #E2EBFA;\n",
              "      box-shadow: 0px 1px 2px rgba(60, 64, 67, 0.3), 0px 1px 3px 1px rgba(60, 64, 67, 0.15);\n",
              "      fill: #174EA6;\n",
              "    }\n",
              "\n",
              "    [theme=dark] .colab-df-convert {\n",
              "      background-color: #3B4455;\n",
              "      fill: #D2E3FC;\n",
              "    }\n",
              "\n",
              "    [theme=dark] .colab-df-convert:hover {\n",
              "      background-color: #434B5C;\n",
              "      box-shadow: 0px 1px 3px 1px rgba(0, 0, 0, 0.15);\n",
              "      filter: drop-shadow(0px 1px 2px rgba(0, 0, 0, 0.3));\n",
              "      fill: #FFFFFF;\n",
              "    }\n",
              "  </style>\n",
              "\n",
              "      <script>\n",
              "        const buttonEl =\n",
              "          document.querySelector('#df-f0e30e29-641a-4ffb-aff8-b0e29d23dc99 button.colab-df-convert');\n",
              "        buttonEl.style.display =\n",
              "          google.colab.kernel.accessAllowed ? 'block' : 'none';\n",
              "\n",
              "        async function convertToInteractive(key) {\n",
              "          const element = document.querySelector('#df-f0e30e29-641a-4ffb-aff8-b0e29d23dc99');\n",
              "          const dataTable =\n",
              "            await google.colab.kernel.invokeFunction('convertToInteractive',\n",
              "                                                     [key], {});\n",
              "          if (!dataTable) return;\n",
              "\n",
              "          const docLinkHtml = 'Like what you see? Visit the ' +\n",
              "            '<a target=\"_blank\" href=https://colab.research.google.com/notebooks/data_table.ipynb>data table notebook</a>'\n",
              "            + ' to learn more about interactive tables.';\n",
              "          element.innerHTML = '';\n",
              "          dataTable['output_type'] = 'display_data';\n",
              "          await google.colab.output.renderOutput(dataTable, element);\n",
              "          const docLink = document.createElement('div');\n",
              "          docLink.innerHTML = docLinkHtml;\n",
              "          element.appendChild(docLink);\n",
              "        }\n",
              "      </script>\n",
              "    </div>\n",
              "  </div>\n",
              "  "
            ]
          },
          "metadata": {},
          "execution_count": 48
        }
      ]
    },
    {
      "cell_type": "code",
      "source": [
        "df['sentiments'] = df.rating.apply(lambda x: 0 if x in [1, 2] else 1)\n",
        "df.head()"
      ],
      "metadata": {
        "colab": {
          "base_uri": "https://localhost:8080/",
          "height": 206
        },
        "id": "SrqqGLVRmDHD",
        "outputId": "bae67c27-aa72-45de-ea75-83613850d890"
      },
      "execution_count": 49,
      "outputs": [
        {
          "output_type": "execute_result",
          "data": {
            "text/plain": [
              "                                                name  \\\n",
              "0                           Planetwise Flannel Wipes   \n",
              "1                              Planetwise Wipe Pouch   \n",
              "2                Annas Dream Full Quilt with 2 Shams   \n",
              "3  Stop Pacifier Sucking without tears with Thumb...   \n",
              "4  Stop Pacifier Sucking without tears with Thumb...   \n",
              "\n",
              "                                              review  rating  sentiments  \n",
              "0  These flannel wipes are OK, but in my opinion ...       3           1  \n",
              "1  it came early and was not disappointed. i love...       5           1  \n",
              "2  Very soft and comfortable and warmer than it l...       5           1  \n",
              "3  This is a product well worth the purchase.  I ...       5           1  \n",
              "4  All of my kids have cried non-stop when I trie...       5           1  "
            ],
            "text/html": [
              "\n",
              "  <div id=\"df-04bcc7ae-8932-43eb-8360-d82db3d3c5f4\">\n",
              "    <div class=\"colab-df-container\">\n",
              "      <div>\n",
              "<style scoped>\n",
              "    .dataframe tbody tr th:only-of-type {\n",
              "        vertical-align: middle;\n",
              "    }\n",
              "\n",
              "    .dataframe tbody tr th {\n",
              "        vertical-align: top;\n",
              "    }\n",
              "\n",
              "    .dataframe thead th {\n",
              "        text-align: right;\n",
              "    }\n",
              "</style>\n",
              "<table border=\"1\" class=\"dataframe\">\n",
              "  <thead>\n",
              "    <tr style=\"text-align: right;\">\n",
              "      <th></th>\n",
              "      <th>name</th>\n",
              "      <th>review</th>\n",
              "      <th>rating</th>\n",
              "      <th>sentiments</th>\n",
              "    </tr>\n",
              "  </thead>\n",
              "  <tbody>\n",
              "    <tr>\n",
              "      <th>0</th>\n",
              "      <td>Planetwise Flannel Wipes</td>\n",
              "      <td>These flannel wipes are OK, but in my opinion ...</td>\n",
              "      <td>3</td>\n",
              "      <td>1</td>\n",
              "    </tr>\n",
              "    <tr>\n",
              "      <th>1</th>\n",
              "      <td>Planetwise Wipe Pouch</td>\n",
              "      <td>it came early and was not disappointed. i love...</td>\n",
              "      <td>5</td>\n",
              "      <td>1</td>\n",
              "    </tr>\n",
              "    <tr>\n",
              "      <th>2</th>\n",
              "      <td>Annas Dream Full Quilt with 2 Shams</td>\n",
              "      <td>Very soft and comfortable and warmer than it l...</td>\n",
              "      <td>5</td>\n",
              "      <td>1</td>\n",
              "    </tr>\n",
              "    <tr>\n",
              "      <th>3</th>\n",
              "      <td>Stop Pacifier Sucking without tears with Thumb...</td>\n",
              "      <td>This is a product well worth the purchase.  I ...</td>\n",
              "      <td>5</td>\n",
              "      <td>1</td>\n",
              "    </tr>\n",
              "    <tr>\n",
              "      <th>4</th>\n",
              "      <td>Stop Pacifier Sucking without tears with Thumb...</td>\n",
              "      <td>All of my kids have cried non-stop when I trie...</td>\n",
              "      <td>5</td>\n",
              "      <td>1</td>\n",
              "    </tr>\n",
              "  </tbody>\n",
              "</table>\n",
              "</div>\n",
              "      <button class=\"colab-df-convert\" onclick=\"convertToInteractive('df-04bcc7ae-8932-43eb-8360-d82db3d3c5f4')\"\n",
              "              title=\"Convert this dataframe to an interactive table.\"\n",
              "              style=\"display:none;\">\n",
              "        \n",
              "  <svg xmlns=\"http://www.w3.org/2000/svg\" height=\"24px\"viewBox=\"0 0 24 24\"\n",
              "       width=\"24px\">\n",
              "    <path d=\"M0 0h24v24H0V0z\" fill=\"none\"/>\n",
              "    <path d=\"M18.56 5.44l.94 2.06.94-2.06 2.06-.94-2.06-.94-.94-2.06-.94 2.06-2.06.94zm-11 1L8.5 8.5l.94-2.06 2.06-.94-2.06-.94L8.5 2.5l-.94 2.06-2.06.94zm10 10l.94 2.06.94-2.06 2.06-.94-2.06-.94-.94-2.06-.94 2.06-2.06.94z\"/><path d=\"M17.41 7.96l-1.37-1.37c-.4-.4-.92-.59-1.43-.59-.52 0-1.04.2-1.43.59L10.3 9.45l-7.72 7.72c-.78.78-.78 2.05 0 2.83L4 21.41c.39.39.9.59 1.41.59.51 0 1.02-.2 1.41-.59l7.78-7.78 2.81-2.81c.8-.78.8-2.07 0-2.86zM5.41 20L4 18.59l7.72-7.72 1.47 1.35L5.41 20z\"/>\n",
              "  </svg>\n",
              "      </button>\n",
              "      \n",
              "  <style>\n",
              "    .colab-df-container {\n",
              "      display:flex;\n",
              "      flex-wrap:wrap;\n",
              "      gap: 12px;\n",
              "    }\n",
              "\n",
              "    .colab-df-convert {\n",
              "      background-color: #E8F0FE;\n",
              "      border: none;\n",
              "      border-radius: 50%;\n",
              "      cursor: pointer;\n",
              "      display: none;\n",
              "      fill: #1967D2;\n",
              "      height: 32px;\n",
              "      padding: 0 0 0 0;\n",
              "      width: 32px;\n",
              "    }\n",
              "\n",
              "    .colab-df-convert:hover {\n",
              "      background-color: #E2EBFA;\n",
              "      box-shadow: 0px 1px 2px rgba(60, 64, 67, 0.3), 0px 1px 3px 1px rgba(60, 64, 67, 0.15);\n",
              "      fill: #174EA6;\n",
              "    }\n",
              "\n",
              "    [theme=dark] .colab-df-convert {\n",
              "      background-color: #3B4455;\n",
              "      fill: #D2E3FC;\n",
              "    }\n",
              "\n",
              "    [theme=dark] .colab-df-convert:hover {\n",
              "      background-color: #434B5C;\n",
              "      box-shadow: 0px 1px 3px 1px rgba(0, 0, 0, 0.15);\n",
              "      filter: drop-shadow(0px 1px 2px rgba(0, 0, 0, 0.3));\n",
              "      fill: #FFFFFF;\n",
              "    }\n",
              "  </style>\n",
              "\n",
              "      <script>\n",
              "        const buttonEl =\n",
              "          document.querySelector('#df-04bcc7ae-8932-43eb-8360-d82db3d3c5f4 button.colab-df-convert');\n",
              "        buttonEl.style.display =\n",
              "          google.colab.kernel.accessAllowed ? 'block' : 'none';\n",
              "\n",
              "        async function convertToInteractive(key) {\n",
              "          const element = document.querySelector('#df-04bcc7ae-8932-43eb-8360-d82db3d3c5f4');\n",
              "          const dataTable =\n",
              "            await google.colab.kernel.invokeFunction('convertToInteractive',\n",
              "                                                     [key], {});\n",
              "          if (!dataTable) return;\n",
              "\n",
              "          const docLinkHtml = 'Like what you see? Visit the ' +\n",
              "            '<a target=\"_blank\" href=https://colab.research.google.com/notebooks/data_table.ipynb>data table notebook</a>'\n",
              "            + ' to learn more about interactive tables.';\n",
              "          element.innerHTML = '';\n",
              "          dataTable['output_type'] = 'display_data';\n",
              "          await google.colab.output.renderOutput(dataTable, element);\n",
              "          const docLink = document.createElement('div');\n",
              "          docLink.innerHTML = docLinkHtml;\n",
              "          element.appendChild(docLink);\n",
              "        }\n",
              "      </script>\n",
              "    </div>\n",
              "  </div>\n",
              "  "
            ]
          },
          "metadata": {},
          "execution_count": 49
        }
      ]
    },
    {
      "cell_type": "code",
      "source": [
        "from tensorflow.keras.preprocessing.text import Tokenizer\n",
        "from tensorflow.keras.preprocessing.sequence import pad_sequences\n",
        "tokenizer = Tokenizer(oov_token=\"<OOV>\")"
      ],
      "metadata": {
        "id": "OcPi-PNBsTOt"
      },
      "execution_count": 50,
      "outputs": []
    },
    {
      "cell_type": "code",
      "source": [
        "#Keep 90% of data for training and 10% for test\n",
        "\n",
        "split = round(len(df)*0.8)\n",
        "train_reviews = df['review'][:split]\n",
        "train_label = df['sentiments'][:split]\n",
        "test_reviews = df['review'][split:]\n",
        "test_label = df['sentiments'][split:]"
      ],
      "metadata": {
        "id": "Y4qNAN1IwDSc"
      },
      "execution_count": 51,
      "outputs": []
    },
    {
      "cell_type": "code",
      "source": [
        "import numpy as np\n",
        "training_sentences = []\n",
        "training_labels = []\n",
        "testing_sentences = []\n",
        "testing_labels = []\n",
        "for row in train_reviews:\n",
        "    training_sentences.append(str(row))\n",
        "for row in train_label:\n",
        "    training_labels.append(row)\n",
        "for row in test_reviews:\n",
        "    testing_sentences.append(str(row))\n",
        "for row in test_label:\n",
        "    testing_labels.append(row)"
      ],
      "metadata": {
        "id": "klp5yBW-2bB9"
      },
      "execution_count": 52,
      "outputs": []
    },
    {
      "cell_type": "code",
      "source": [
        "vocab_size = 40000 # vocab_size 40,000 means we will take 40,000 unique words to train the network\n",
        "embedding_dim = 16 # each word will be represented by a 16-dimensional vector\n",
        "max_length = 120 # 120 words from each review\n",
        "trunc_type = 'post'\n",
        "oov_tok = '<OOV>'\n",
        "padding_type = 'post'"
      ],
      "metadata": {
        "id": "GhS2XEi52cSa"
      },
      "execution_count": 53,
      "outputs": []
    },
    {
      "cell_type": "code",
      "source": [
        "tokenizer = Tokenizer(num_words=vocab_size, oov_token=oov_tok)\n",
        "tokenizer.fit_on_texts(training_sentences)\n",
        "word_index = tokenizer.word_index"
      ],
      "metadata": {
        "id": "x_I5LkxS2h76"
      },
      "execution_count": 54,
      "outputs": []
    },
    {
      "cell_type": "code",
      "source": [
        "sequences = tokenizer.texts_to_sequences(training_sentences)\n",
        "padded = pad_sequences(sequences, maxlen=max_length, truncating=trunc_type)\n",
        "testing_sentences = tokenizer.texts_to_sequences(testing_sentences)\n",
        "testing_padded = pad_sequences(testing_sentences, maxlen=max_length)"
      ],
      "metadata": {
        "id": "EHdq0Bdy29Ei"
      },
      "execution_count": 55,
      "outputs": []
    },
    {
      "cell_type": "code",
      "source": [
        "model = tf.keras.Sequential([\n",
        "    tf.keras.layers.Embedding(vocab_size, embedding_dim,       input_length=max_length),\n",
        "    tf.keras.layers.GlobalAveragePooling1D(),\n",
        "    tf.keras.layers.Dense(6, activation='relu'),\n",
        "    tf.keras.layers.Dense(1, activation='sigmoid')\n",
        "])"
      ],
      "metadata": {
        "id": "ZH2a8pqr3EYK"
      },
      "execution_count": 56,
      "outputs": []
    },
    {
      "cell_type": "code",
      "source": [
        "model.compile(loss='binary_crossentropy', optimizer='adam', metrics=['accuracy'])"
      ],
      "metadata": {
        "id": "3mznjm1Z3ckS"
      },
      "execution_count": 57,
      "outputs": []
    },
    {
      "cell_type": "code",
      "source": [
        "model.summary()"
      ],
      "metadata": {
        "colab": {
          "base_uri": "https://localhost:8080/"
        },
        "id": "BCbMPmBD3dQr",
        "outputId": "42fb6233-0a74-4db4-ae58-18e3c12c2721"
      },
      "execution_count": 58,
      "outputs": [
        {
          "output_type": "stream",
          "name": "stdout",
          "text": [
            "Model: \"sequential_1\"\n",
            "_________________________________________________________________\n",
            " Layer (type)                Output Shape              Param #   \n",
            "=================================================================\n",
            " embedding_1 (Embedding)     (None, 120, 16)           640000    \n",
            "                                                                 \n",
            " global_average_pooling1d_1   (None, 16)               0         \n",
            " (GlobalAveragePooling1D)                                        \n",
            "                                                                 \n",
            " dense_2 (Dense)             (None, 6)                 102       \n",
            "                                                                 \n",
            " dense_3 (Dense)             (None, 1)                 7         \n",
            "                                                                 \n",
            "=================================================================\n",
            "Total params: 640,109\n",
            "Trainable params: 640,109\n",
            "Non-trainable params: 0\n",
            "_________________________________________________________________\n"
          ]
        }
      ]
    },
    {
      "cell_type": "code",
      "source": [
        "training_labels_final = np.array(training_labels)\n",
        "testing_labels_final = np.array(testing_labels)"
      ],
      "metadata": {
        "id": "ldrnI-v03kCJ"
      },
      "execution_count": 59,
      "outputs": []
    },
    {
      "cell_type": "code",
      "source": [
        "num_epochs = 20\n",
        "history = model.fit(padded, training_labels_final, epochs=num_epochs, validation_data=(testing_padded, testing_labels_final))"
      ],
      "metadata": {
        "colab": {
          "base_uri": "https://localhost:8080/"
        },
        "id": "iwarf0c63qJF",
        "outputId": "7cc06438-9ed0-41e6-d7cc-f149cf9df547"
      },
      "execution_count": 60,
      "outputs": [
        {
          "output_type": "stream",
          "name": "stdout",
          "text": [
            "Epoch 1/20\n",
            "1228/1228 [==============================] - 9s 7ms/step - loss: 0.4270 - accuracy: 0.8347 - val_loss: 0.3421 - val_accuracy: 0.8506\n",
            "Epoch 2/20\n",
            "1228/1228 [==============================] - 8s 7ms/step - loss: 0.2790 - accuracy: 0.8779 - val_loss: 0.2434 - val_accuracy: 0.8938\n",
            "Epoch 3/20\n",
            "1228/1228 [==============================] - 8s 6ms/step - loss: 0.2182 - accuracy: 0.9088 - val_loss: 0.2320 - val_accuracy: 0.9022\n",
            "Epoch 4/20\n",
            "1228/1228 [==============================] - 8s 6ms/step - loss: 0.1949 - accuracy: 0.9199 - val_loss: 0.2309 - val_accuracy: 0.9025\n",
            "Epoch 5/20\n",
            "1228/1228 [==============================] - 8s 7ms/step - loss: 0.1778 - accuracy: 0.9281 - val_loss: 0.2340 - val_accuracy: 0.9013\n",
            "Epoch 6/20\n",
            "1228/1228 [==============================] - 8s 6ms/step - loss: 0.1642 - accuracy: 0.9342 - val_loss: 0.2377 - val_accuracy: 0.9017\n",
            "Epoch 7/20\n",
            "1228/1228 [==============================] - 8s 7ms/step - loss: 0.1517 - accuracy: 0.9409 - val_loss: 0.2457 - val_accuracy: 0.8999\n",
            "Epoch 8/20\n",
            "1228/1228 [==============================] - 8s 7ms/step - loss: 0.1407 - accuracy: 0.9457 - val_loss: 0.2560 - val_accuracy: 0.8983\n",
            "Epoch 9/20\n",
            "1228/1228 [==============================] - 8s 7ms/step - loss: 0.1311 - accuracy: 0.9505 - val_loss: 0.2689 - val_accuracy: 0.8983\n",
            "Epoch 10/20\n",
            "1228/1228 [==============================] - 9s 8ms/step - loss: 0.1214 - accuracy: 0.9541 - val_loss: 0.2849 - val_accuracy: 0.8962\n",
            "Epoch 11/20\n",
            "1228/1228 [==============================] - 8s 7ms/step - loss: 0.1128 - accuracy: 0.9589 - val_loss: 0.3050 - val_accuracy: 0.8937\n",
            "Epoch 12/20\n",
            "1228/1228 [==============================] - 8s 7ms/step - loss: 0.1045 - accuracy: 0.9621 - val_loss: 0.3077 - val_accuracy: 0.8910\n",
            "Epoch 13/20\n",
            "1228/1228 [==============================] - 8s 6ms/step - loss: 0.0973 - accuracy: 0.9658 - val_loss: 0.3248 - val_accuracy: 0.8911\n",
            "Epoch 14/20\n",
            "1228/1228 [==============================] - 8s 6ms/step - loss: 0.0904 - accuracy: 0.9680 - val_loss: 0.3454 - val_accuracy: 0.8897\n",
            "Epoch 15/20\n",
            "1228/1228 [==============================] - 8s 7ms/step - loss: 0.0834 - accuracy: 0.9701 - val_loss: 0.3628 - val_accuracy: 0.8872\n",
            "Epoch 16/20\n",
            "1228/1228 [==============================] - 8s 6ms/step - loss: 0.0773 - accuracy: 0.9731 - val_loss: 0.3954 - val_accuracy: 0.8875\n",
            "Epoch 17/20\n",
            "1228/1228 [==============================] - 8s 6ms/step - loss: 0.0710 - accuracy: 0.9754 - val_loss: 0.4039 - val_accuracy: 0.8833\n",
            "Epoch 18/20\n",
            "1228/1228 [==============================] - 8s 7ms/step - loss: 0.0655 - accuracy: 0.9778 - val_loss: 0.4247 - val_accuracy: 0.8801\n",
            "Epoch 19/20\n",
            "1228/1228 [==============================] - 8s 7ms/step - loss: 0.0608 - accuracy: 0.9789 - val_loss: 0.4709 - val_accuracy: 0.8826\n",
            "Epoch 20/20\n",
            "1228/1228 [==============================] - 8s 6ms/step - loss: 0.0563 - accuracy: 0.9797 - val_loss: 0.4895 - val_accuracy: 0.8789\n"
          ]
        }
      ]
    },
    {
      "cell_type": "code",
      "source": [
        "%matplotlib inline\n",
        "import matplotlib.pyplot as plt\n",
        "import matplotlib.image as mpimg\n",
        "acc = history.history['accuracy']\n",
        "val_acc = history.history['val_accuracy']\n",
        "loss = history.history['loss']\n",
        "val_loss = history.history['val_loss']\n",
        "epochs=range(len(acc))\n",
        "plt.plot(epochs, acc, 'r', 'Training Accuracy')\n",
        "plt.plot(epochs, val_acc, 'b', 'Validation Accuracy')\n",
        "plt.title('Training and validation accuracy')\n",
        "plt.figure()\n",
        "plt.plot(epochs, loss, 'r', 'Training Loss')\n",
        "plt.plot(epochs, val_loss, 'b', 'Validation Loss')\n",
        "plt.title('Training and validation loss')\n",
        "plt.figure()"
      ],
      "metadata": {
        "colab": {
          "base_uri": "https://localhost:8080/",
          "height": 581
        },
        "id": "lxztKOJ63wT5",
        "outputId": "04f39a98-e17b-41c3-d050-c52f0cc3705c"
      },
      "execution_count": 61,
      "outputs": [
        {
          "output_type": "execute_result",
          "data": {
            "text/plain": [
              "<Figure size 432x288 with 0 Axes>"
            ]
          },
          "metadata": {},
          "execution_count": 61
        },
        {
          "output_type": "display_data",
          "data": {
            "text/plain": [
              "<Figure size 432x288 with 1 Axes>"
            ],
            "image/png": "[encoded data removed]"
          },
          "metadata": {
            "needs_background": "light"
          }
        },
        {
          "output_type": "display_data",
          "data": {
            "text/plain": [
              "<Figure size 432x288 with 1 Axes>"
            ],
            "image/png": "[encoded data removed]"
          },
          "metadata": {
            "needs_background": "light"
          }
        },
        {
          "output_type": "display_data",
          "data": {
            "text/plain": [
              "<Figure size 432x288 with 0 Axes>"
            ]
          },
          "metadata": {}
        }
      ]
    }
  ]
}